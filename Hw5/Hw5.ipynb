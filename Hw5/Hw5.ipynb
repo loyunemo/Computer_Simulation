{
 "cells": [
  {
   "cell_type": "markdown",
   "metadata": {},
   "source": [
    "#### 题目3"
   ]
  },
  {
   "cell_type": "code",
   "execution_count": 5,
   "metadata": {},
   "outputs": [],
   "source": [
    "import numpy as np\n",
    "import random as random\n",
    "\n"
   ]
  },
  {
   "cell_type": "code",
   "execution_count": 2,
   "metadata": {},
   "outputs": [],
   "source": [
    "def Starttime():    \n",
    "    u=random.uniform(0,1.001)\n",
    "    while(u>1):\n",
    "        u=random.uniform(0,1.001)\n",
    "    if u<=0.1:\n",
    "        return -15\n",
    "    elif u<=0.35:\n",
    "        return -5\n",
    "    elif u<=0.85:\n",
    "        return 0\n",
    "    elif u<=0.95:\n",
    "        return 10\n",
    "    else:\n",
    "        return 15\n",
    "def Servicetime():\n",
    "    u=random.uniform(0,1.001)\n",
    "    while(u>1):\n",
    "        u=random.uniform(0,1.001)\n",
    "    if u<=0.1:\n",
    "        return 24\n",
    "    elif u<=0.3:\n",
    "        return 27\n",
    "    elif u<=0.7:\n",
    "        return 30\n",
    "    elif u<=0.85:\n",
    "        return 33\n",
    "    elif u<=0.95:\n",
    "        return 36\n",
    "    else:\n",
    "        return 39"
   ]
  },
  {
   "cell_type": "code",
   "execution_count": 3,
   "metadata": {},
   "outputs": [],
   "source": [
    "class service():\n",
    "    def __init__(self,stoptime) -> None:\n",
    "        self.starttime=Starttime()#病人预计到达时间\n",
    "        self.servicetime=Servicetime()#预计服务时间\n",
    "        self.laststoptime=stoptime#上次接诊什么时候结束\n",
    "        self.nextstoptime=self.Time_calculate()-30#本次接诊超时几分钟\n",
    "    def Time_calculate(self):\n",
    "        if self.starttime<=self.laststoptime:\n",
    "            return self.servicetime\n",
    "        else:\n",
    "            return self.servicetime+self.starttime-self.laststoptime\n",
    "def nextservice(lastservice:service):\n",
    "    nextserviceevent=service(lastservice.nextstoptime)\n",
    "    return nextserviceevent"
   ]
  },
  {
   "cell_type": "code",
   "execution_count": 4,
   "metadata": {},
   "outputs": [],
   "source": [
    "def day():\n",
    "    nextservice0=service(0)\n",
    "    for t in range(15):\n",
    "        nextservice0=nextservice(nextservice0)\n",
    "    return nextservice0.nextstoptime+30*16\n",
    "def simulate(time):\n",
    "    Timeall=0\n",
    "    for t in range(time):\n",
    "        Timeall+=day()\n",
    "    print(Timeall/time)\n",
    "    return Timeall/time"
   ]
  },
  {
   "cell_type": "code",
   "execution_count": 5,
   "metadata": {},
   "outputs": [
    {
     "name": "stdout",
     "output_type": "stream",
     "text": [
      "482.35\n"
     ]
    }
   ],
   "source": [
    "timesimulate=simulate(10000)"
   ]
  },
  {
   "cell_type": "markdown",
   "metadata": {},
   "source": [
    "题目6"
   ]
  },
  {
   "cell_type": "markdown",
   "metadata": {},
   "source": [
    "利用Simpy进行模拟\n",
    "\n",
    "\n",
    "可能出现的情况：\n",
    " 1. 全部空\n",
    " 2. 部分空\n",
    " 3. 没空\n",
    "\n",
    "触发事件的条件\n",
    " 柜台有空：\n",
    " 1. 顾客进入//更新柜台空余情况，服务时间\n",
    " 2. 顾客离开//更新柜台空余情况\n",
    "   \n",
    " 柜台没空：\n",
    " 1. 顾客进入//更新队列人数，\n",
    " 2. 顾客离开//更新队列人数，更新服务时间"
   ]
  },
  {
   "cell_type": "code",
   "execution_count": 2,
   "metadata": {},
   "outputs": [],
   "source": [
    "import simpy\n",
    "env = simpy.Environment()\n"
   ]
  },
  {
   "cell_type": "code",
   "execution_count": 18,
   "metadata": {},
   "outputs": [
    {
     "name": "stdout",
     "output_type": "stream",
     "text": [
      "客户平均等待时间: 3.46 分钟\n",
      "客户放弃概率: 0.05\n",
      "出纳员空闲概率: 0.04\n"
     ]
    }
   ],
   "source": [
    "import simpy\n",
    "import random\n",
    "# 定义银行模拟函数\n",
    "def credit_card_service(env, num_cashiers, arrival_rate):\n",
    "    # 创建环境\n",
    "    cashiers = simpy.Resource(env, num_cashiers)\n",
    "    total_waiting_time = 0\n",
    "    busy_time = [0]*4\n",
    "    customer_count = 0\n",
    "    customer_quit = 0\n",
    "    servicetimeall=0\n",
    "    # 定义客户等待函数\n",
    "    def customer_wait(currentCustom: int):# 包括正在服务的\n",
    "        randomInt = random.randint(1,100)\n",
    "        if currentCustom < 6:\n",
    "            return True\n",
    "        elif currentCustom <= 8:\n",
    "            return randomInt <= 80\n",
    "        elif currentCustom <= 10:\n",
    "            return randomInt <= 60\n",
    "        elif currentCustom <= 14:\n",
    "            return randomInt <= 40\n",
    "        else:\n",
    "            return randomInt <= 20\n",
    "\n",
    "    # 定义客户到达函数\n",
    "    def customer_arrival():\n",
    "        while True:\n",
    "            yield env.timeout(random.expovariate(arrival_rate))\n",
    "            nonlocal customer_count\n",
    "            customer_count += 1\n",
    "            env.process(customer_service(env, cashiers, env.now))\n",
    "    \n",
    "    # 定义客户服务函数\n",
    "    def customer_service(env, cashiers, arrival_time):\n",
    "        currentCustom = len(cashiers.queue)\n",
    "        if (customer_wait(currentCustom) == False):\n",
    "            nonlocal customer_quit\n",
    "            customer_quit += 1\n",
    "            return\n",
    "        with cashiers.request() as request:\n",
    "            yield request\n",
    "            #cashier_id = cashiers.users.index(request.user)\n",
    "            service_start_time = env.now\n",
    "            service_time = random.uniform(3, 5)\n",
    "            nonlocal servicetimeall\n",
    "            servicetimeall+=service_time\n",
    "            yield env.timeout(service_time)\n",
    "            #nonlocal busy_time\n",
    "            #busy_time[cashier_id] += service_time\n",
    "            waiting_time = service_start_time - arrival_time\n",
    "            #print(f\"前面的人数: {currentCustom:.2f}\")\n",
    "            #print(f\"客户等待时间: {waiting_time:.2f} 分钟\")\n",
    "            nonlocal total_waiting_time\n",
    "            total_waiting_time += waiting_time\n",
    "    \n",
    "    env.process(customer_arrival())\n",
    "    \n",
    "    # 开始模拟\n",
    "    env.run(until=1440)  # 模拟1天，单位是分钟\n",
    "    total_simulation_time = env.now\n",
    "    average_waiting_time = total_waiting_time / customer_count\n",
    "    print(f\"客户平均等待时间: {average_waiting_time:.2f} 分钟\")\n",
    "    print(f\"客户放弃概率: {customer_quit / customer_count:.2f}\")\n",
    "    print(f\"出纳员空闲概率: {(1-servicetimeall/4/total_simulation_time):.2f}\")\n",
    "\n",
    "# 设置模拟参数\n",
    "env = simpy.Environment()\n",
    "num_cashiers = 4\n",
    "arrival_rate = 1  # 平均每分钟1名到达\n",
    "\n",
    "# 运行模拟\n",
    "credit_card_service(env, num_cashiers, arrival_rate)"
   ]
  },
  {
   "cell_type": "code",
   "execution_count": 11,
   "metadata": {},
   "outputs": [
    {
     "name": "stdout",
     "output_type": "stream",
     "text": [
      "客户平均等待时间: 1.67 分钟\n",
      "出纳员忙的概率: 76.41%\n"
     ]
    }
   ],
   "source": [
    "import simpy\n",
    "import random\n",
    "# 定义信用卡服务处模拟函数\n",
    "def credit_card_service(env, num_cashiers, service_rate, arrival_rate):\n",
    "    # 创建环境\n",
    "    random.seed(42)\n",
    "    cashiers = simpy.Resource(env, num_cashiers)\n",
    "    busy_time = 0  # 记录出纳员的总工作时长\n",
    "    total_waiting_time = 0\n",
    "    customer_count = 0\n",
    "    # 定义客户到达函数\n",
    "    def customer_arrival():\n",
    "        while True:\n",
    "            yield env.timeout(random.expovariate(arrival_rate))\n",
    "            nonlocal customer_count\n",
    "            customer_count += 1\n",
    "            env.process(customer_service(env, cashiers, service_rate, env.now))\n",
    "    \n",
    "    # 定义客户服务函数\n",
    "    def customer_service(env, cashiers, service_rate, arrival_time):\n",
    "        with cashiers.request() as request:\n",
    "            yield request\n",
    "            service_start_time = env.now\n",
    "            service_time = random.expovariate(service_rate)\n",
    "            yield env.timeout(service_time)\n",
    "            nonlocal busy_time\n",
    "            busy_time += service_time\n",
    "            service_end_time = env.now\n",
    "            waiting_time = service_start_time - arrival_time\n",
    "            # print(f\"客户等待时间: {waiting_time:.2f} 分钟\")\n",
    "            nonlocal total_waiting_time\n",
    "            total_waiting_time += waiting_time\n",
    "    \n",
    "    env.process(customer_arrival())\n",
    "    \n",
    "    # 开始模拟\n",
    "    env.run(until=1440)  # 模拟1天，单位是分钟\n",
    "    total_simulation_time = env.now\n",
    "    average_waiting_time = total_waiting_time / customer_count\n",
    "    print(f\"客户平均等待时间: {average_waiting_time:.2f} 分钟\")\n",
    "    busy_probability = busy_time / total_simulation_time / 4\n",
    "\n",
    "    print(f\"出纳员忙的概率: {busy_probability:.2%}\")\n",
    "\n",
    "# 设置模拟参数\n",
    "env = simpy.Environment()\n",
    "num_cashiers = 4\n",
    "service_rate = 1 / 3  # 平均服务时间3分钟\n",
    "arrival_rate = 1  # 平均每分钟1名学生到达\n",
    "\n",
    "# 运行模拟\n",
    "credit_card_service(env, num_cashiers, service_rate, arrival_rate)\n"
   ]
  },
  {
   "cell_type": "markdown",
   "metadata": {},
   "source": [
    "#### 题目9"
   ]
  },
  {
   "cell_type": "code",
   "execution_count": null,
   "metadata": {},
   "outputs": [],
   "source": [
    "env = simpy.Environment()\n",
    "bcs = simpy.Resource(env, capacity=4) \n",
    "def car(env, name, bcs, driving_time, charge_duration):\n",
    "    # Simulate driving to the BCS\n",
    "    yield env.timeout(driving_time)\n",
    "    # Request one of its charging spots\n",
    "    print('%s arriving at %d' % (name, env.now))\n",
    "    with bcs.request() as req:\n",
    "        yield req\n",
    "        # Charge the battery\n",
    "        print('%s starting to charge at %s' % (name, env.now))\n",
    "        yield env.timeout(charge_duration)\n",
    "        print('%s leaving the bcs at %s' % (name, env.now))"
   ]
  },
  {
   "cell_type": "code",
   "execution_count": 21,
   "metadata": {},
   "outputs": [
    {
     "data": {
      "image/png": "[encoded data removed]",
      "text/plain": [
       "<Figure size 640x480 with 1 Axes>"
      ]
     },
     "metadata": {},
     "output_type": "display_data"
    }
   ],
   "source": [
    "import random as random\n",
    "import math as math\n",
    "import numpy as np\n",
    "import matplotlib.pyplot as plt\n",
    "def simulate(number):\n",
    "    if number ==0:\n",
    "        return 0\n",
    "    length=number\n",
    "    sum=0\n",
    "    for t in range(length):\n",
    "        x=random.uniform(0,1/20)\n",
    "        sum+=1/20/x/x/math.sqrt(2*math.pi)*math.exp(-1/2/x/x)\n",
    "    result=sum/length\n",
    "    return result\n",
    "def simulate2(number):\n",
    "    if number ==0:\n",
    "        return 0\n",
    "    length=number\n",
    "    sum=0\n",
    "    for t in range(length):\n",
    "        x=random.uniform(0,1/20)\n",
    "        sum+=1/20/x/x/math.sqrt(2*math.pi)*math.exp(-1/2/x/x)\n",
    "    result=sum/length\n",
    "    return result\n",
    "x=[]\n",
    "y=[]\n",
    "z=[]\n",
    "for t in range(10000):\n",
    "    x.append(t)\n",
    "    y.append(simulate(t))\n",
    "    ax=np.array(x)\n",
    "    ay=np.array(y)\n",
    "    #print(t)\n",
    "plt.plot(ax,ay)\n",
    "plt.xlabel(\"Simulate times\")\n",
    "plt.ylabel(\"Simulate Result\")\n",
    "    \n",
    "plt.show()\n"
   ]
  },
  {
   "cell_type": "code",
   "execution_count": 22,
   "metadata": {},
   "outputs": [
    {
     "name": "stdout",
     "output_type": "stream",
     "text": [
      "2.8004510965873362e-89 2.3269485697305925e-89 3.1039854228698715e-89 2.5349881159066218e-89\n"
     ]
    }
   ],
   "source": [
    "print(y[-1],y[-2],y[-3],y[-4])"
   ]
  }
 ],
 "metadata": {
  "kernelspec": {
   "display_name": "Python 3 (ipykernel)",
   "language": "python",
   "name": "python3"
  },
  "language_info": {
   "codemirror_mode": {
    "name": "ipython",
    "version": 3
   },
   "file_extension": ".py",
   "mimetype": "text/x-python",
   "name": "python",
   "nbconvert_exporter": "python",
   "pygments_lexer": "ipython3",
   "version": "3.11.4"
  }
 },
 "nbformat": 4,
 "nbformat_minor": 2
}
