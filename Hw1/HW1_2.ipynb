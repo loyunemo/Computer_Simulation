{
 "cells": [
  {
   "cell_type": "markdown",
   "metadata": {},
   "source": [
    "$\\pi$数值模拟,用的是正方形内切圆模拟计算和正弦函数周期长度模拟计算"
   ]
  },
  {
   "cell_type": "code",
   "execution_count": 5,
   "metadata": {},
   "outputs": [
    {
     "name": "stdout",
     "output_type": "stream",
     "text": [
      "Pi Simulation Result:3.148880\n"
     ]
    }
   ],
   "source": [
    "import random as rd\n",
    "N=100000\n",
    "count=0\n",
    "for t in range(N):\n",
    "    x=rd.random()*6\n",
    "    y=rd.random()*6\n",
    "    if (x-3)*(x-3)+(y-3)*(y-3)<=9:\n",
    "        count+=1\n",
    "    else:\n",
    "        pass\n",
    "PI_test=count*1.0/(N*1.0)*4.0\n",
    "print(\"Pi Simulation Result:%f\"%(PI_test))"
   ]
  },
  {
   "cell_type": "code",
   "execution_count": 12,
   "metadata": {},
   "outputs": [
    {
     "name": "stdout",
     "output_type": "stream",
     "text": [
      "Pi Simulation Result:3.142900\n"
     ]
    }
   ],
   "source": [
    "import random as rd\n",
    "import math \n",
    "N=100000\n",
    "count=0\n",
    "for t in range(N):\n",
    "    x=math.sin(rd.random()*5)\n",
    "    if x>0:\n",
    "        count+=1\n",
    "PI_test=count*1.0/(N*1.0)*5.0\n",
    "print(\"Pi Simulation Result:%f\"%(PI_test))"
   ]
  }
 ],
 "metadata": {
  "kernelspec": {
   "display_name": "pytorch",
   "language": "python",
   "name": "python3"
  },
  "language_info": {
   "codemirror_mode": {
    "name": "ipython",
    "version": 3
   },
   "file_extension": ".py",
   "mimetype": "text/x-python",
   "name": "python",
   "nbconvert_exporter": "python",
   "pygments_lexer": "ipython3",
   "version": "3.11.4"
  },
  "orig_nbformat": 4
 },
 "nbformat": 4,
 "nbformat_minor": 2
}
